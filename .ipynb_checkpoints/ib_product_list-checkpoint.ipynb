{
 "cells": [
  {
   "cell_type": "code",
   "execution_count": 1,
   "metadata": {
    "collapsed": true
   },
   "outputs": [],
   "source": [
    "#code=utf-8\n",
    "import requests\n",
    "import pandas as pd\n",
    "from bs4 import BeautifulSoup"
   ]
  },
  {
   "cell_type": "code",
   "execution_count": 3,
   "metadata": {
    "collapsed": true
   },
   "outputs": [],
   "source": [
    "exch_list_url = 'https://www.interactivebrokers.com/en/index.php?f=1563&p=fut'"
   ]
  },
  {
   "cell_type": "code",
   "execution_count": 21,
   "metadata": {
    "collapsed": true
   },
   "outputs": [],
   "source": [
    "base_url = 'https://www.interactivebrokers.com/en/'"
   ]
  },
  {
   "cell_type": "code",
   "execution_count": 4,
   "metadata": {
    "collapsed": true
   },
   "outputs": [],
   "source": [
    "headers = {'user-agent': 'Mozilla/5.0 (X11; Linux x86_64) AppleWebKit/537.36 (KHTML, like Gecko) Chrome/64.0.3282.167 Safari/537.36'}\n",
    "content = requests.get(exch_list_url, headers=headers)"
   ]
  },
  {
   "cell_type": "code",
   "execution_count": 22,
   "metadata": {},
   "outputs": [],
   "source": [
    "soup = BeautifulSoup(content.text,'lxml')\n",
    "table = soup.find_all('table')[0]\n",
    "a_links = [ base_url + a['href'] for a in  table.find_all('a')]"
   ]
  },
  {
   "cell_type": "code",
   "execution_count": 23,
   "metadata": {},
   "outputs": [
    {
     "data": {
      "text/plain": [
       "['https://www.interactivebrokers.com/en/index.php?f=2222&exch=cfe&showcategories=FUTGRP',\n",
       " 'https://www.interactivebrokers.com/en/index.php?f=2222&exch=ecbot&showcategories=FUTGRP',\n",
       " 'https://www.interactivebrokers.com/en/index.php?f=2222&exch=cfecrypto&showcategories=FUTGRP',\n",
       " 'https://www.interactivebrokers.com/en/index.php?f=2222&exch=globex&showcategories=FUTGRP',\n",
       " 'https://www.interactivebrokers.com/en/index.php?f=2222&exch=cmecrypto&showcategories=FUTGRP',\n",
       " 'https://www.interactivebrokers.com/en/index.php?f=2222&exch=eris&showcategories=FUTGRP',\n",
       " 'https://www.interactivebrokers.com/en/index.php?f=2222&exch=nybot&showcategories=FUTGRP',\n",
       " 'https://www.interactivebrokers.com/en/index.php?f=2222&exch=iceus&showcategories=FUTGRP',\n",
       " 'https://www.interactivebrokers.com/en/index.php?f=2222&exch=nymex&showcategories=FUTGRP',\n",
       " 'https://www.interactivebrokers.com/en/index.php?f=2222&exch=nyseliffe&showcategories=FUTGRP',\n",
       " 'https://www.interactivebrokers.com/en/index.php?f=2222&exch=one&showcategories=FUTGRP',\n",
       " 'https://www.interactivebrokers.com/en/index.php?f=2222&exch=cde&showcategories=FUTGRP',\n",
       " 'https://www.interactivebrokers.com/en/index.php?f=2222&exch=mexder&showcategories=FUTGRP']"
      ]
     },
     "execution_count": 23,
     "metadata": {},
     "output_type": "execute_result"
    }
   ],
   "source": [
    "a_links"
   ]
  },
  {
   "cell_type": "code",
   "execution_count": 25,
   "metadata": {
    "collapsed": true
   },
   "outputs": [],
   "source": [
    "content = requests.get(a_links[1], headers=headers)"
   ]
  },
  {
   "cell_type": "code",
   "execution_count": 28,
   "metadata": {
    "collapsed": true
   },
   "outputs": [],
   "source": [
    "soup = BeautifulSoup(content.text,'lxml')\n",
    "table = soup.find_all('table')[2]"
   ]
  },
  {
   "cell_type": "code",
   "execution_count": 41,
   "metadata": {},
   "outputs": [],
   "source": [
    "trs = table[2].find_all('tr')"
   ]
  },
  {
   "cell_type": "code",
   "execution_count": 79,
   "metadata": {
    "collapsed": true
   },
   "outputs": [],
   "source": [
    "import re\n",
    "pattern = re.compile('(https://.*?)\\',')"
   ]
  },
  {
   "cell_type": "code",
   "execution_count": 91,
   "metadata": {},
   "outputs": [],
   "source": [
    "futures_data = []\n",
    "for tr in trs[1:]:\n",
    "    try:\n",
    "        tds = tr.find_all('td')\n",
    "        rst = dict(\n",
    "        prod_desc = tds[1].find('a').text,\n",
    "        prod_desc_link  = pattern.findall(tds[1].find('a')['href'])[0],\n",
    "        ib_symbol = tds[0].text,\n",
    "        symbol = tds[2].text,\n",
    "        currency = tds[3].text\n",
    "        )\n",
    "        futures_data.append(rst)\n",
    "    except Exception as e:\n",
    "        print(tds)\n",
    "        print(e)\n"
   ]
  },
  {
   "cell_type": "code",
   "execution_count": 93,
   "metadata": {
    "collapsed": true
   },
   "outputs": [],
   "source": [
    "df = pd.DataFrame(futures_data)"
   ]
  },
  {
   "cell_type": "code",
   "execution_count": 96,
   "metadata": {},
   "outputs": [
    {
     "data": {
      "text/plain": [
       "'https://misc.interactivebrokers.com/cstools/contract_info/index2.php?action=Details&site=GEN&conid=305599457'"
      ]
     },
     "execution_count": 96,
     "metadata": {},
     "output_type": "execute_result"
    }
   ],
   "source": [
    "futures_data[0]['prod_desc_link']"
   ]
  },
  {
   "cell_type": "code",
   "execution_count": null,
   "metadata": {},
   "outputs": [],
   "source": [
    "df"
   ]
  },
  {
   "cell_type": "code",
   "execution_count": null,
   "metadata": {
    "collapsed": true
   },
   "outputs": [],
   "source": []
  }
 ],
 "metadata": {
  "kernelspec": {
   "display_name": "Python 3",
   "language": "python",
   "name": "python3"
  },
  "language_info": {
   "codemirror_mode": {
    "name": "ipython",
    "version": 3
   },
   "file_extension": ".py",
   "mimetype": "text/x-python",
   "name": "python",
   "nbconvert_exporter": "python",
   "pygments_lexer": "ipython3",
   "version": "3.6.3"
  }
 },
 "nbformat": 4,
 "nbformat_minor": 2
}
